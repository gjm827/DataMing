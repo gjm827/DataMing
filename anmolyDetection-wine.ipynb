{
 "cells": [
  {
   "cell_type": "markdown",
   "metadata": {},
   "source": [
    "#数据挖掘互评作业四：离群点分析与异常检测#\n",
    "##数据集：wine##"
   ]
  },
  {
   "cell_type": "markdown",
   "metadata": {},
   "source": [
    "##1、导入并展示数据## "
   ]
  },
  {
   "cell_type": "markdown",
   "metadata": {},
   "source": [
    "首先以一个文件为例导入并展示文件\n",
    "数据集说明：\n",
    "该数据集共包括17列，其中original.label为原始数据的类标签，为红酒的质量；\n",
    "ground.truth取值为nominal表示正常点，anomaly表示异常点;\n",
    "后11列为分类预测所使用的特征"
   ]
  },
  {
   "cell_type": "code",
   "execution_count": 1,
   "metadata": {},
   "outputs": [],
   "source": [
    "# -*- coding: utf-8 -*-\n",
    "import pandas as pd\n",
    "import numpy as np\n",
    "import matplotlib.pyplot as plt\n",
    "import seaborn as sns\n",
    "from sklearn.metrics import precision_score, recall_score, f1_score,auc,roc_curve\n",
    "from sklearn.model_selection import train_test_split \n",
    "import os\n",
    "import warnings\n",
    "warnings.filterwarnings(\"ignore\")"
   ]
  },
  {
   "cell_type": "code",
   "execution_count": 85,
   "metadata": {},
   "outputs": [
    {
     "name": "stdout",
     "output_type": "stream",
     "text": [
      "数据行数:2351\n",
      "数据列数:17\n",
      "每个变量数据类型:\n",
      "point.id                 object\n",
      "motherset                object\n",
      "origin                   object\n",
      "original.label            int64\n",
      "diff.score              float64\n",
      "ground.truth             object\n",
      "fixed.acidity           float64\n",
      "volatile.acidity        float64\n",
      "citric.acid             float64\n",
      "residual.sugar          float64\n",
      "chlorides               float64\n",
      "free.sulfur.dioxide     float64\n",
      "total.sulfur.dioxide    float64\n",
      "density                 float64\n",
      "pH                      float64\n",
      "sulphates               float64\n",
      "alcohol                 float64\n",
      "dtype: object\n",
      "数据前五行:\n"
     ]
    },
    {
     "data": {
      "text/html": [
       "<div>\n",
       "<style scoped>\n",
       "    .dataframe tbody tr th:only-of-type {\n",
       "        vertical-align: middle;\n",
       "    }\n",
       "\n",
       "    .dataframe tbody tr th {\n",
       "        vertical-align: top;\n",
       "    }\n",
       "\n",
       "    .dataframe thead th {\n",
       "        text-align: right;\n",
       "    }\n",
       "</style>\n",
       "<table border=\"1\" class=\"dataframe\">\n",
       "  <thead>\n",
       "    <tr style=\"text-align: right;\">\n",
       "      <th></th>\n",
       "      <th>point.id</th>\n",
       "      <th>motherset</th>\n",
       "      <th>origin</th>\n",
       "      <th>original.label</th>\n",
       "      <th>diff.score</th>\n",
       "      <th>ground.truth</th>\n",
       "      <th>fixed.acidity</th>\n",
       "      <th>volatile.acidity</th>\n",
       "      <th>citric.acid</th>\n",
       "      <th>residual.sugar</th>\n",
       "      <th>chlorides</th>\n",
       "      <th>free.sulfur.dioxide</th>\n",
       "      <th>total.sulfur.dioxide</th>\n",
       "      <th>density</th>\n",
       "      <th>pH</th>\n",
       "      <th>sulphates</th>\n",
       "      <th>alcohol</th>\n",
       "    </tr>\n",
       "  </thead>\n",
       "  <tbody>\n",
       "    <tr>\n",
       "      <th>0</th>\n",
       "      <td>wine_point_1344</td>\n",
       "      <td>wine</td>\n",
       "      <td>regression</td>\n",
       "      <td>6</td>\n",
       "      <td>0.472828</td>\n",
       "      <td>nominal</td>\n",
       "      <td>-0.474615</td>\n",
       "      <td>-0.544630</td>\n",
       "      <td>-0.059409</td>\n",
       "      <td>1.462180</td>\n",
       "      <td>0.084666</td>\n",
       "      <td>1.209882</td>\n",
       "      <td>1.154517</td>\n",
       "      <td>1.235002</td>\n",
       "      <td>1.812950</td>\n",
       "      <td>-0.411733</td>\n",
       "      <td>-0.580023</td>\n",
       "    </tr>\n",
       "    <tr>\n",
       "      <th>1</th>\n",
       "      <td>wine_point_1245</td>\n",
       "      <td>wine</td>\n",
       "      <td>regression</td>\n",
       "      <td>5</td>\n",
       "      <td>0.383027</td>\n",
       "      <td>anomaly</td>\n",
       "      <td>-0.628884</td>\n",
       "      <td>-0.483890</td>\n",
       "      <td>-0.678741</td>\n",
       "      <td>-0.072142</td>\n",
       "      <td>-0.543303</td>\n",
       "      <td>-0.423976</td>\n",
       "      <td>0.269903</td>\n",
       "      <td>-0.098922</td>\n",
       "      <td>0.444682</td>\n",
       "      <td>-1.419758</td>\n",
       "      <td>-0.328496</td>\n",
       "    </tr>\n",
       "    <tr>\n",
       "      <th>2</th>\n",
       "      <td>wine_point_2224</td>\n",
       "      <td>wine</td>\n",
       "      <td>regression</td>\n",
       "      <td>6</td>\n",
       "      <td>0.481863</td>\n",
       "      <td>nominal</td>\n",
       "      <td>-0.243211</td>\n",
       "      <td>-0.666110</td>\n",
       "      <td>0.078220</td>\n",
       "      <td>1.546252</td>\n",
       "      <td>-0.000967</td>\n",
       "      <td>0.759163</td>\n",
       "      <td>0.942209</td>\n",
       "      <td>1.101609</td>\n",
       "      <td>1.253204</td>\n",
       "      <td>-0.747741</td>\n",
       "      <td>-0.580023</td>\n",
       "    </tr>\n",
       "    <tr>\n",
       "      <th>3</th>\n",
       "      <td>wine_point_1930</td>\n",
       "      <td>wine</td>\n",
       "      <td>regression</td>\n",
       "      <td>5</td>\n",
       "      <td>0.181031</td>\n",
       "      <td>anomaly</td>\n",
       "      <td>1.222348</td>\n",
       "      <td>0.002029</td>\n",
       "      <td>0.078220</td>\n",
       "      <td>0.894691</td>\n",
       "      <td>-0.571847</td>\n",
       "      <td>0.871842</td>\n",
       "      <td>0.995286</td>\n",
       "      <td>0.634736</td>\n",
       "      <td>-0.861392</td>\n",
       "      <td>-0.882144</td>\n",
       "      <td>-0.244653</td>\n",
       "    </tr>\n",
       "    <tr>\n",
       "      <th>4</th>\n",
       "      <td>wine_point_5546</td>\n",
       "      <td>wine</td>\n",
       "      <td>regression</td>\n",
       "      <td>4</td>\n",
       "      <td>0.398576</td>\n",
       "      <td>anomaly</td>\n",
       "      <td>0.836674</td>\n",
       "      <td>3.069393</td>\n",
       "      <td>-2.123849</td>\n",
       "      <td>-0.681666</td>\n",
       "      <td>0.398650</td>\n",
       "      <td>-1.438095</td>\n",
       "      <td>-1.800093</td>\n",
       "      <td>0.668084</td>\n",
       "      <td>0.631264</td>\n",
       "      <td>0.327485</td>\n",
       "      <td>0.426087</td>\n",
       "    </tr>\n",
       "  </tbody>\n",
       "</table>\n",
       "</div>"
      ],
      "text/plain": [
       "          point.id motherset      origin  original.label  diff.score  \\\n",
       "0  wine_point_1344      wine  regression               6    0.472828   \n",
       "1  wine_point_1245      wine  regression               5    0.383027   \n",
       "2  wine_point_2224      wine  regression               6    0.481863   \n",
       "3  wine_point_1930      wine  regression               5    0.181031   \n",
       "4  wine_point_5546      wine  regression               4    0.398576   \n",
       "\n",
       "  ground.truth  fixed.acidity  volatile.acidity  citric.acid  residual.sugar  \\\n",
       "0      nominal      -0.474615         -0.544630    -0.059409        1.462180   \n",
       "1      anomaly      -0.628884         -0.483890    -0.678741       -0.072142   \n",
       "2      nominal      -0.243211         -0.666110     0.078220        1.546252   \n",
       "3      anomaly       1.222348          0.002029     0.078220        0.894691   \n",
       "4      anomaly       0.836674          3.069393    -2.123849       -0.681666   \n",
       "\n",
       "   chlorides  free.sulfur.dioxide  total.sulfur.dioxide   density        pH  \\\n",
       "0   0.084666             1.209882              1.154517  1.235002  1.812950   \n",
       "1  -0.543303            -0.423976              0.269903 -0.098922  0.444682   \n",
       "2  -0.000967             0.759163              0.942209  1.101609  1.253204   \n",
       "3  -0.571847             0.871842              0.995286  0.634736 -0.861392   \n",
       "4   0.398650            -1.438095             -1.800093  0.668084  0.631264   \n",
       "\n",
       "   sulphates   alcohol  \n",
       "0  -0.411733 -0.580023  \n",
       "1  -1.419758 -0.328496  \n",
       "2  -0.747741 -0.580023  \n",
       "3  -0.882144 -0.244653  \n",
       "4   0.327485  0.426087  "
      ]
     },
     "execution_count": 85,
     "metadata": {},
     "output_type": "execute_result"
    }
   ],
   "source": [
    "#导入数据\n",
    "data = pd.read_csv('./wine/benchmarks/wine_benchmark_0001.csv')\n",
    "print('数据行数:'+str(data.shape[0]))\n",
    "print('数据列数:'+str(data.shape[1]))\n",
    "print(\"每个变量数据类型:\")\n",
    "print(data.dtypes)\n",
    "print(\"数据前五行:\")\n",
    "data.head()"
   ]
  },
  {
   "cell_type": "markdown",
   "metadata": {},
   "source": [
    "数据集中正常点和异常点的样本数："
   ]
  },
  {
   "cell_type": "code",
   "execution_count": 86,
   "metadata": {},
   "outputs": [
    {
     "data": {
      "text/plain": [
       "nominal    1325\n",
       "anomaly    1026\n",
       "Name: ground.truth, dtype: int64"
      ]
     },
     "execution_count": 86,
     "metadata": {},
     "output_type": "execute_result"
    }
   ],
   "source": [
    "data['ground.truth'].value_counts()"
   ]
  },
  {
   "cell_type": "markdown",
   "metadata": {},
   "source": [
    "提取original.label，fixed.acidity，volatile.acidity，citric.acid，residual.sugar，chlorides，free.sulfur.dioxide，total.sulfur.dioxide，density，pH，sulphates，alcohol这十二个特征后续的的离群点分类预测"
   ]
  },
  {
   "cell_type": "code",
   "execution_count": 87,
   "metadata": {},
   "outputs": [
    {
     "data": {
      "text/html": [
       "<div>\n",
       "<style scoped>\n",
       "    .dataframe tbody tr th:only-of-type {\n",
       "        vertical-align: middle;\n",
       "    }\n",
       "\n",
       "    .dataframe tbody tr th {\n",
       "        vertical-align: top;\n",
       "    }\n",
       "\n",
       "    .dataframe thead th {\n",
       "        text-align: right;\n",
       "    }\n",
       "</style>\n",
       "<table border=\"1\" class=\"dataframe\">\n",
       "  <thead>\n",
       "    <tr style=\"text-align: right;\">\n",
       "      <th></th>\n",
       "      <th>original.label</th>\n",
       "      <th>fixed.acidity</th>\n",
       "      <th>volatile.acidity</th>\n",
       "      <th>citric.acid</th>\n",
       "      <th>residual.sugar</th>\n",
       "      <th>chlorides</th>\n",
       "      <th>free.sulfur.dioxide</th>\n",
       "      <th>total.sulfur.dioxide</th>\n",
       "      <th>density</th>\n",
       "      <th>pH</th>\n",
       "      <th>sulphates</th>\n",
       "      <th>alcohol</th>\n",
       "    </tr>\n",
       "  </thead>\n",
       "  <tbody>\n",
       "    <tr>\n",
       "      <th>0</th>\n",
       "      <td>6</td>\n",
       "      <td>-0.474615</td>\n",
       "      <td>-0.544630</td>\n",
       "      <td>-0.059409</td>\n",
       "      <td>1.462180</td>\n",
       "      <td>0.084666</td>\n",
       "      <td>1.209882</td>\n",
       "      <td>1.154517</td>\n",
       "      <td>1.235002</td>\n",
       "      <td>1.812950</td>\n",
       "      <td>-0.411733</td>\n",
       "      <td>-0.580023</td>\n",
       "    </tr>\n",
       "    <tr>\n",
       "      <th>1</th>\n",
       "      <td>5</td>\n",
       "      <td>-0.628884</td>\n",
       "      <td>-0.483890</td>\n",
       "      <td>-0.678741</td>\n",
       "      <td>-0.072142</td>\n",
       "      <td>-0.543303</td>\n",
       "      <td>-0.423976</td>\n",
       "      <td>0.269903</td>\n",
       "      <td>-0.098922</td>\n",
       "      <td>0.444682</td>\n",
       "      <td>-1.419758</td>\n",
       "      <td>-0.328496</td>\n",
       "    </tr>\n",
       "    <tr>\n",
       "      <th>2</th>\n",
       "      <td>6</td>\n",
       "      <td>-0.243211</td>\n",
       "      <td>-0.666110</td>\n",
       "      <td>0.078220</td>\n",
       "      <td>1.546252</td>\n",
       "      <td>-0.000967</td>\n",
       "      <td>0.759163</td>\n",
       "      <td>0.942209</td>\n",
       "      <td>1.101609</td>\n",
       "      <td>1.253204</td>\n",
       "      <td>-0.747741</td>\n",
       "      <td>-0.580023</td>\n",
       "    </tr>\n",
       "    <tr>\n",
       "      <th>3</th>\n",
       "      <td>5</td>\n",
       "      <td>1.222348</td>\n",
       "      <td>0.002029</td>\n",
       "      <td>0.078220</td>\n",
       "      <td>0.894691</td>\n",
       "      <td>-0.571847</td>\n",
       "      <td>0.871842</td>\n",
       "      <td>0.995286</td>\n",
       "      <td>0.634736</td>\n",
       "      <td>-0.861392</td>\n",
       "      <td>-0.882144</td>\n",
       "      <td>-0.244653</td>\n",
       "    </tr>\n",
       "    <tr>\n",
       "      <th>4</th>\n",
       "      <td>4</td>\n",
       "      <td>0.836674</td>\n",
       "      <td>3.069393</td>\n",
       "      <td>-2.123849</td>\n",
       "      <td>-0.681666</td>\n",
       "      <td>0.398650</td>\n",
       "      <td>-1.438095</td>\n",
       "      <td>-1.800093</td>\n",
       "      <td>0.668084</td>\n",
       "      <td>0.631264</td>\n",
       "      <td>0.327485</td>\n",
       "      <td>0.426087</td>\n",
       "    </tr>\n",
       "  </tbody>\n",
       "</table>\n",
       "</div>"
      ],
      "text/plain": [
       "   original.label  fixed.acidity  volatile.acidity  citric.acid  \\\n",
       "0               6      -0.474615         -0.544630    -0.059409   \n",
       "1               5      -0.628884         -0.483890    -0.678741   \n",
       "2               6      -0.243211         -0.666110     0.078220   \n",
       "3               5       1.222348          0.002029     0.078220   \n",
       "4               4       0.836674          3.069393    -2.123849   \n",
       "\n",
       "   residual.sugar  chlorides  free.sulfur.dioxide  total.sulfur.dioxide  \\\n",
       "0        1.462180   0.084666             1.209882              1.154517   \n",
       "1       -0.072142  -0.543303            -0.423976              0.269903   \n",
       "2        1.546252  -0.000967             0.759163              0.942209   \n",
       "3        0.894691  -0.571847             0.871842              0.995286   \n",
       "4       -0.681666   0.398650            -1.438095             -1.800093   \n",
       "\n",
       "    density        pH  sulphates   alcohol  \n",
       "0  1.235002  1.812950  -0.411733 -0.580023  \n",
       "1 -0.098922  0.444682  -1.419758 -0.328496  \n",
       "2  1.101609  1.253204  -0.747741 -0.580023  \n",
       "3  0.634736 -0.861392  -0.882144 -0.244653  \n",
       "4  0.668084  0.631264   0.327485  0.426087  "
      ]
     },
     "execution_count": 87,
     "metadata": {},
     "output_type": "execute_result"
    }
   ],
   "source": [
    "x = data[['original.label','fixed.acidity','volatile.acidity','citric.acid','residual.sugar','chlorides','free.sulfur.dioxide','total.sulfur.dioxide','density','pH','sulphates','alcohol']]\n",
    "x.head()"
   ]
  },
  {
   "cell_type": "markdown",
   "metadata": {},
   "source": [
    "将ground.truth这一列划分为0和1,0代表正常点，1代表异常点，作为类标签"
   ]
  },
  {
   "cell_type": "code",
   "execution_count": 21,
   "metadata": {},
   "outputs": [],
   "source": [
    "y = data[['ground.truth']]\n",
    "y['ground.truth']=np.where(y['ground.truth']=='anomaly',1,0)\n",
    "y = y['ground.truth'].values"
   ]
  },
  {
   "cell_type": "markdown",
   "metadata": {},
   "source": [
    "##2、离群点预测##\n",
    "现在读入全部benchmark数据文件，使用Cluster-based Local Outiler Factor、Feature Bagging、\n",
    "Histogram-base Outlier Detection(HBOS)、Isolation Forest、KNN、Average KNN这六种分类器进行离群点分类预测，\n",
    "并采用auc取平均作为评估指标"
   ]
  },
  {
   "cell_type": "code",
   "execution_count": 2,
   "metadata": {},
   "outputs": [],
   "source": [
    "from pyod.models.cblof import CBLOF\n",
    "from pyod.models.feature_bagging import FeatureBagging\n",
    "from pyod.models.hbos import HBOS\n",
    "from pyod.models.iforest import IForest\n",
    "from pyod.models.knn import KNN\n",
    "from pyod.models.lof import LOF"
   ]
  },
  {
   "cell_type": "code",
   "execution_count": 5,
   "metadata": {},
   "outputs": [],
   "source": [
    "classifiers = [\"Cluster-based Local Outiler Factor (CBLOF)\",\"Feature Bagging\",\"Histogram-base Outlier Detection(HBOS)\",\\\n",
    "              \"Isolation Forest\",\"KNN\",\"Average KNN\"]\n",
    "auc_score = {}\n",
    "for clf_name in classifiers:\n",
    "    auc_score[clf_name] = []"
   ]
  },
  {
   "cell_type": "code",
   "execution_count": 6,
   "metadata": {},
   "outputs": [],
   "source": [
    "##输入全部wine-benchmarks数据集进行离群点预测\n",
    "path_in = './wine/benchmarks/'\n",
    "files = os.listdir(path_in)\n",
    "for file in files:\n",
    "    filename = path_in+file\n",
    "    data = pd.read_csv(filename) ##读入数据\n",
    "    ##提取特征x和类标签y\n",
    "    x = data[['original.label','fixed.acidity','volatile.acidity','citric.acid','residual.sugar','chlorides','free.sulfur.dioxide','total.sulfur.dioxide','density','pH','sulphates','alcohol']]\n",
    "    y = data[['ground.truth']]\n",
    "    y['ground.truth']=np.where(y['ground.truth']=='anomaly',1,0)\n",
    "    y = y['ground.truth'].values\n",
    "    ##划分测试集和训练集\n",
    "    x_train,x_test, y_train, y_test = train_test_split(x,y,test_size=0.2, random_state=0)\n",
    "        \n",
    "    ##定义分类器\n",
    "    outliers_fraction = data['ground.truth'].value_counts()['anomaly'] / len(data)  ##异常点比例\n",
    "    classifiers = {\n",
    "        \"Cluster-based Local Outiler Factor (CBLOF)\": CBLOF(contamination = outliers_fraction,check_estimator=False),\n",
    "        \"Feature Bagging\" : FeatureBagging(LOF(n_neighbors=50),contamination=outliers_fraction,check_estimator=False),\n",
    "        \"Histogram-base Outlier Detection(HBOS)\" : HBOS(contamination=outliers_fraction),\n",
    "        \"Isolation Forest\" :IForest(contamination=outliers_fraction),\n",
    "        \"KNN\" : KNN(contamination=outliers_fraction),\n",
    "        \"Average KNN\" :KNN(method='mean',contamination=outliers_fraction)\n",
    "    }\n",
    "    ##初始化auc\n",
    "    ##分类预测\n",
    "    for i ,(clf_name,clf) in enumerate(classifiers.items()):\n",
    "        clf.fit(x_train)\n",
    "        # 预测离群得分\n",
    "        scores_pred = clf.decision_function(x_test)\n",
    "        fpr, tpr, thresholds = roc_curve(y_test, scores_pred, pos_label=1)\n",
    "        auc_score[clf_name].append(auc(fpr,tpr))"
   ]
  },
  {
   "cell_type": "code",
   "execution_count": 27,
   "metadata": {},
   "outputs": [],
   "source": [
    "##计算auc平均值\n",
    "result = {}\n",
    "for clf in auc_score.keys():\n",
    "    sum = 0\n",
    "    for item in auc_score[clf]:\n",
    "        sum += item\n",
    "    sum /= len(auc_score[clf])\n",
    "    result[clf] = sum"
   ]
  },
  {
   "cell_type": "markdown",
   "metadata": {},
   "source": [
    "##3、结果可视化##"
   ]
  },
  {
   "cell_type": "code",
   "execution_count": 28,
   "metadata": {},
   "outputs": [
    {
     "data": {
      "text/html": [
       "<div>\n",
       "<style scoped>\n",
       "    .dataframe tbody tr th:only-of-type {\n",
       "        vertical-align: middle;\n",
       "    }\n",
       "\n",
       "    .dataframe tbody tr th {\n",
       "        vertical-align: top;\n",
       "    }\n",
       "\n",
       "    .dataframe thead th {\n",
       "        text-align: right;\n",
       "    }\n",
       "</style>\n",
       "<table border=\"1\" class=\"dataframe\">\n",
       "  <thead>\n",
       "    <tr style=\"text-align: right;\">\n",
       "      <th></th>\n",
       "      <th>id</th>\n",
       "      <th>auc</th>\n",
       "    </tr>\n",
       "  </thead>\n",
       "  <tbody>\n",
       "    <tr>\n",
       "      <th>0</th>\n",
       "      <td>Cluster-based Local Outiler Factor (CBLOF)</td>\n",
       "      <td>0.723504</td>\n",
       "    </tr>\n",
       "    <tr>\n",
       "      <th>1</th>\n",
       "      <td>Feature Bagging</td>\n",
       "      <td>0.813603</td>\n",
       "    </tr>\n",
       "    <tr>\n",
       "      <th>2</th>\n",
       "      <td>Histogram-base Outlier Detection(HBOS)</td>\n",
       "      <td>0.571192</td>\n",
       "    </tr>\n",
       "    <tr>\n",
       "      <th>3</th>\n",
       "      <td>Isolation Forest</td>\n",
       "      <td>0.802986</td>\n",
       "    </tr>\n",
       "    <tr>\n",
       "      <th>4</th>\n",
       "      <td>KNN</td>\n",
       "      <td>0.777335</td>\n",
       "    </tr>\n",
       "    <tr>\n",
       "      <th>5</th>\n",
       "      <td>Average KNN</td>\n",
       "      <td>0.804084</td>\n",
       "    </tr>\n",
       "  </tbody>\n",
       "</table>\n",
       "</div>"
      ],
      "text/plain": [
       "                                           id       auc\n",
       "0  Cluster-based Local Outiler Factor (CBLOF)  0.723504\n",
       "1                             Feature Bagging  0.813603\n",
       "2      Histogram-base Outlier Detection(HBOS)  0.571192\n",
       "3                            Isolation Forest  0.802986\n",
       "4                                         KNN  0.777335\n",
       "5                                 Average KNN  0.804084"
      ]
     },
     "execution_count": 28,
     "metadata": {},
     "output_type": "execute_result"
    }
   ],
   "source": [
    "df = pd.DataFrame.from_dict(result, orient='index',columns=['auc'])\n",
    "df = df.reset_index().rename(columns = {'index':'id'})\n",
    "df"
   ]
  },
  {
   "cell_type": "code",
   "execution_count": 29,
   "metadata": {},
   "outputs": [
    {
     "data": {
      "text/plain": [
       "<matplotlib.axes._subplots.AxesSubplot at 0x14c6beb8>"
      ]
     },
     "execution_count": 29,
     "metadata": {},
     "output_type": "execute_result"
    },
    {
     "data": {
      "image/png": "[encoded data removed]",
      "text/plain": [
       "<Figure size 576x432 with 1 Axes>"
      ]
     },
     "metadata": {
      "needs_background": "light"
     },
     "output_type": "display_data"
    }
   ],
   "source": [
    "import seaborn as sns\n",
    "plt.figure(figsize=(8,6))\n",
    "sns.barplot(y=df.id,x='auc',data=df)"
   ]
  },
  {
   "cell_type": "markdown",
   "metadata": {},
   "source": [
    "##4、结果分析##\n",
    "通过输出的结果和可视化分析可以看出，六种分类器中Feature Bagging的预测效果最好，auc达到了0.81，所使用的Feature Bagging近邻数设置为50；\n",
    "Average KNN和Isolation Forest的效果接近，略低于Feature Bagging；\n",
    "KNN和Cluster-based Local Outiler Factor (CBLOF)的auc得分都在0.7-0.8之间；\n",
    "而Histogram-base Outlier Detection的预测效果最差，auc得分仅为0.57"
   ]
  },
  {
   "cell_type": "code",
   "execution_count": null,
   "metadata": {},
   "outputs": [],
   "source": []
  }
 ],
 "metadata": {
  "kernelspec": {
   "display_name": "Python 3",
   "language": "python",
   "name": "python3"
  },
  "language_info": {
   "codemirror_mode": {
    "name": "ipython",
    "version": 3
   },
   "file_extension": ".py",
   "mimetype": "text/x-python",
   "name": "python",
   "nbconvert_exporter": "python",
   "pygments_lexer": "ipython3",
   "version": "3.7.0"
  }
 },
 "nbformat": 4,
 "nbformat_minor": 2
}
