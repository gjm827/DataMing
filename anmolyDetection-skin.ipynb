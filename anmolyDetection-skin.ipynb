{
 "cells": [
  {
   "cell_type": "markdown",
   "metadata": {},
   "source": [
    "#数据挖掘互评作业四：离群点分析与异常检测#\n",
    "##数据集：skin##"
   ]
  },
  {
   "cell_type": "markdown",
   "metadata": {},
   "source": [
    "##1、导入并展示数据## "
   ]
  },
  {
   "cell_type": "markdown",
   "metadata": {},
   "source": [
    "首先以一个文件为例导入并展示文件\n",
    "数据集说明：\n",
    "该数据集共包括9列，其中original.label为原始数据的类标签；\n",
    "ground.truth取值为nominal表示正常点，anomaly表示异常点\n",
    "后3列为分类预测所使用的特征"
   ]
  },
  {
   "cell_type": "code",
   "execution_count": 2,
   "metadata": {},
   "outputs": [],
   "source": [
    "# -*- coding: utf-8 -*-\n",
    "import pandas as pd\n",
    "import numpy as np\n",
    "import matplotlib.pyplot as plt\n",
    "import seaborn as sns\n",
    "from sklearn.metrics import precision_score, recall_score, f1_score,auc,roc_curve\n",
    "from sklearn.model_selection import train_test_split \n",
    "import os\n",
    "import warnings\n",
    "warnings.filterwarnings(\"ignore\")"
   ]
  },
  {
   "cell_type": "code",
   "execution_count": 2,
   "metadata": {},
   "outputs": [
    {
     "name": "stdout",
     "output_type": "stream",
     "text": [
      "数据行数:6000\n",
      "数据列数:9\n",
      "每个变量数据类型:\n",
      "point.id           object\n",
      "motherset          object\n",
      "origin             object\n",
      "original.label      int64\n",
      "diff.score        float64\n",
      "ground.truth       object\n",
      "R                 float64\n",
      "G                 float64\n",
      "B                 float64\n",
      "dtype: object\n",
      "数据前五行:\n"
     ]
    },
    {
     "data": {
      "text/html": [
       "<div>\n",
       "<style scoped>\n",
       "    .dataframe tbody tr th:only-of-type {\n",
       "        vertical-align: middle;\n",
       "    }\n",
       "\n",
       "    .dataframe tbody tr th {\n",
       "        vertical-align: top;\n",
       "    }\n",
       "\n",
       "    .dataframe thead th {\n",
       "        text-align: right;\n",
       "    }\n",
       "</style>\n",
       "<table border=\"1\" class=\"dataframe\">\n",
       "  <thead>\n",
       "    <tr style=\"text-align: right;\">\n",
       "      <th></th>\n",
       "      <th>point.id</th>\n",
       "      <th>motherset</th>\n",
       "      <th>origin</th>\n",
       "      <th>original.label</th>\n",
       "      <th>diff.score</th>\n",
       "      <th>ground.truth</th>\n",
       "      <th>R</th>\n",
       "      <th>G</th>\n",
       "      <th>B</th>\n",
       "    </tr>\n",
       "  </thead>\n",
       "  <tbody>\n",
       "    <tr>\n",
       "      <th>0</th>\n",
       "      <td>skin_point_117027</td>\n",
       "      <td>skin</td>\n",
       "      <td>binary</td>\n",
       "      <td>2</td>\n",
       "      <td>0.020405</td>\n",
       "      <td>nominal</td>\n",
       "      <td>-1.864336</td>\n",
       "      <td>-2.110524</td>\n",
       "      <td>-1.587289</td>\n",
       "    </tr>\n",
       "    <tr>\n",
       "      <th>1</th>\n",
       "      <td>skin_point_016927</td>\n",
       "      <td>skin</td>\n",
       "      <td>binary</td>\n",
       "      <td>1</td>\n",
       "      <td>0.000250</td>\n",
       "      <td>anomaly</td>\n",
       "      <td>0.384456</td>\n",
       "      <td>0.925785</td>\n",
       "      <td>1.747782</td>\n",
       "    </tr>\n",
       "    <tr>\n",
       "      <th>2</th>\n",
       "      <td>skin_point_240995</td>\n",
       "      <td>skin</td>\n",
       "      <td>binary</td>\n",
       "      <td>2</td>\n",
       "      <td>0.001285</td>\n",
       "      <td>nominal</td>\n",
       "      <td>-0.980882</td>\n",
       "      <td>-1.092860</td>\n",
       "      <td>-1.394351</td>\n",
       "    </tr>\n",
       "    <tr>\n",
       "      <th>3</th>\n",
       "      <td>skin_point_018861</td>\n",
       "      <td>skin</td>\n",
       "      <td>binary</td>\n",
       "      <td>1</td>\n",
       "      <td>0.000739</td>\n",
       "      <td>anomaly</td>\n",
       "      <td>-1.125447</td>\n",
       "      <td>-0.542320</td>\n",
       "      <td>0.383435</td>\n",
       "    </tr>\n",
       "    <tr>\n",
       "      <th>4</th>\n",
       "      <td>skin_point_087883</td>\n",
       "      <td>skin</td>\n",
       "      <td>binary</td>\n",
       "      <td>2</td>\n",
       "      <td>0.001053</td>\n",
       "      <td>nominal</td>\n",
       "      <td>-0.964819</td>\n",
       "      <td>-1.076177</td>\n",
       "      <td>-1.380570</td>\n",
       "    </tr>\n",
       "  </tbody>\n",
       "</table>\n",
       "</div>"
      ],
      "text/plain": [
       "            point.id motherset  origin  original.label  diff.score  \\\n",
       "0  skin_point_117027      skin  binary               2    0.020405   \n",
       "1  skin_point_016927      skin  binary               1    0.000250   \n",
       "2  skin_point_240995      skin  binary               2    0.001285   \n",
       "3  skin_point_018861      skin  binary               1    0.000739   \n",
       "4  skin_point_087883      skin  binary               2    0.001053   \n",
       "\n",
       "  ground.truth         R         G         B  \n",
       "0      nominal -1.864336 -2.110524 -1.587289  \n",
       "1      anomaly  0.384456  0.925785  1.747782  \n",
       "2      nominal -0.980882 -1.092860 -1.394351  \n",
       "3      anomaly -1.125447 -0.542320  0.383435  \n",
       "4      nominal -0.964819 -1.076177 -1.380570  "
      ]
     },
     "execution_count": 2,
     "metadata": {},
     "output_type": "execute_result"
    }
   ],
   "source": [
    "#导入数据\n",
    "data = pd.read_csv('./skin/benchmarks/skin_benchmark_0001.csv')\n",
    "print('数据行数:'+str(data.shape[0]))\n",
    "print('数据列数:'+str(data.shape[1]))\n",
    "print(\"每个变量数据类型:\")\n",
    "print(data.dtypes)\n",
    "print(\"数据前五行:\")\n",
    "data.head()"
   ]
  },
  {
   "cell_type": "markdown",
   "metadata": {},
   "source": [
    "数据集中正常点和异常点的样本数："
   ]
  },
  {
   "cell_type": "code",
   "execution_count": 3,
   "metadata": {},
   "outputs": [
    {
     "data": {
      "text/plain": [
       "nominal    4783\n",
       "anomaly    1217\n",
       "Name: ground.truth, dtype: int64"
      ]
     },
     "execution_count": 3,
     "metadata": {},
     "output_type": "execute_result"
    }
   ],
   "source": [
    "data['ground.truth'].value_counts()"
   ]
  },
  {
   "cell_type": "markdown",
   "metadata": {},
   "source": [
    "提取original.label、R、G、B这四个特征后续的的离群点分类预测"
   ]
  },
  {
   "cell_type": "code",
   "execution_count": 5,
   "metadata": {},
   "outputs": [
    {
     "data": {
      "text/html": [
       "<div>\n",
       "<style scoped>\n",
       "    .dataframe tbody tr th:only-of-type {\n",
       "        vertical-align: middle;\n",
       "    }\n",
       "\n",
       "    .dataframe tbody tr th {\n",
       "        vertical-align: top;\n",
       "    }\n",
       "\n",
       "    .dataframe thead th {\n",
       "        text-align: right;\n",
       "    }\n",
       "</style>\n",
       "<table border=\"1\" class=\"dataframe\">\n",
       "  <thead>\n",
       "    <tr style=\"text-align: right;\">\n",
       "      <th></th>\n",
       "      <th>original.label</th>\n",
       "      <th>R</th>\n",
       "      <th>G</th>\n",
       "      <th>B</th>\n",
       "    </tr>\n",
       "  </thead>\n",
       "  <tbody>\n",
       "    <tr>\n",
       "      <th>0</th>\n",
       "      <td>2</td>\n",
       "      <td>-1.864336</td>\n",
       "      <td>-2.110524</td>\n",
       "      <td>-1.587289</td>\n",
       "    </tr>\n",
       "    <tr>\n",
       "      <th>1</th>\n",
       "      <td>1</td>\n",
       "      <td>0.384456</td>\n",
       "      <td>0.925785</td>\n",
       "      <td>1.747782</td>\n",
       "    </tr>\n",
       "    <tr>\n",
       "      <th>2</th>\n",
       "      <td>2</td>\n",
       "      <td>-0.980882</td>\n",
       "      <td>-1.092860</td>\n",
       "      <td>-1.394351</td>\n",
       "    </tr>\n",
       "    <tr>\n",
       "      <th>3</th>\n",
       "      <td>1</td>\n",
       "      <td>-1.125447</td>\n",
       "      <td>-0.542320</td>\n",
       "      <td>0.383435</td>\n",
       "    </tr>\n",
       "    <tr>\n",
       "      <th>4</th>\n",
       "      <td>2</td>\n",
       "      <td>-0.964819</td>\n",
       "      <td>-1.076177</td>\n",
       "      <td>-1.380570</td>\n",
       "    </tr>\n",
       "  </tbody>\n",
       "</table>\n",
       "</div>"
      ],
      "text/plain": [
       "   original.label         R         G         B\n",
       "0               2 -1.864336 -2.110524 -1.587289\n",
       "1               1  0.384456  0.925785  1.747782\n",
       "2               2 -0.980882 -1.092860 -1.394351\n",
       "3               1 -1.125447 -0.542320  0.383435\n",
       "4               2 -0.964819 -1.076177 -1.380570"
      ]
     },
     "execution_count": 5,
     "metadata": {},
     "output_type": "execute_result"
    }
   ],
   "source": [
    "x = data[['original.label','R','G','B']]\n",
    "x.head()"
   ]
  },
  {
   "cell_type": "markdown",
   "metadata": {},
   "source": [
    "将ground.truth这一列划分为0和1,0代表正常点，1代表异常点，作为类标签"
   ]
  },
  {
   "cell_type": "code",
   "execution_count": 6,
   "metadata": {},
   "outputs": [],
   "source": [
    "y = data[['ground.truth']]\n",
    "y['ground.truth']=np.where(y['ground.truth']=='anomaly',1,0)\n",
    "y = y['ground.truth'].values"
   ]
  },
  {
   "cell_type": "markdown",
   "metadata": {},
   "source": [
    "##2、离群点预测##\n",
    "现在读入全部benchmark数据文件，使用Cluster-based Local Outiler Factor、Feature Bagging、\n",
    "Histogram-base Outlier Detection(HBOS)、Isolation Forest、KNN、Average KNN这六种分类器进行离群点分类预测，\n",
    "并采用auc取平均作为评估指标"
   ]
  },
  {
   "cell_type": "code",
   "execution_count": 1,
   "metadata": {},
   "outputs": [
    {
     "name": "stderr",
     "output_type": "stream",
     "text": [
      "C:\\Users\\admin\\AppData\\Roaming\\Python\\Python37\\site-packages\\sklearn\\utils\\deprecation.py:144: FutureWarning: The sklearn.utils.testing module is  deprecated in version 0.22 and will be removed in version 0.24. The corresponding classes / functions should instead be imported from sklearn.utils. Anything that cannot be imported from sklearn.utils is now part of the private API.\n",
      "  warnings.warn(message, FutureWarning)\n"
     ]
    }
   ],
   "source": [
    "from pyod.models.cblof import CBLOF\n",
    "from pyod.models.feature_bagging import FeatureBagging\n",
    "from pyod.models.hbos import HBOS\n",
    "from pyod.models.iforest import IForest\n",
    "from pyod.models.knn import KNN\n",
    "from pyod.models.lof import LOF"
   ]
  },
  {
   "cell_type": "code",
   "execution_count": 3,
   "metadata": {},
   "outputs": [],
   "source": [
    "classifiers = [\"Cluster-based Local Outiler Factor (CBLOF)\",\"Feature Bagging\",\"Histogram-base Outlier Detection(HBOS)\",\\\n",
    "              \"Isolation Forest\",\"KNN\",\"Average KNN\"]\n",
    "auc_score = {}\n",
    "for clf_name in classifiers:\n",
    "    auc_score[clf_name] = []"
   ]
  },
  {
   "cell_type": "code",
   "execution_count": 8,
   "metadata": {},
   "outputs": [],
   "source": [
    "##输入全部skin-benchmarks数据集进行离群点预测\n",
    "path_in = './skin/benchmarks/'\n",
    "files = os.listdir(path_in)\n",
    "for file in files:\n",
    "    filename = path_in+file\n",
    "    data = pd.read_csv(filename) ##读入数据\n",
    "    ##提取特征x和类标签y\n",
    "    x = data[['original.label','R','G','B']]\n",
    "    y = data[['ground.truth']]\n",
    "    y['ground.truth']=np.where(y['ground.truth']=='anomaly',1,0)\n",
    "    y = y['ground.truth'].values\n",
    "    ##划分测试集和训练集\n",
    "    x_train,x_test, y_train, y_test = train_test_split(x,y,test_size=0.2, random_state=0)\n",
    "        \n",
    "    ##定义分类器\n",
    "    outliers_fraction = data['ground.truth'].value_counts()['anomaly'] / len(data)  ##异常点比例\n",
    "    classifiers = {\n",
    "        \"Cluster-based Local Outiler Factor (CBLOF)\": CBLOF(contamination = outliers_fraction,check_estimator=False),\n",
    "        \"Feature Bagging\" : FeatureBagging(LOF(n_neighbors=50),contamination=outliers_fraction,check_estimator=False),\n",
    "        \"Histogram-base Outlier Detection(HBOS)\" : HBOS(contamination=outliers_fraction),\n",
    "        \"Isolation Forest\" :IForest(contamination=outliers_fraction),\n",
    "        \"KNN\" : KNN(contamination=outliers_fraction),\n",
    "        \"Average KNN\" :KNN(method='mean',contamination=outliers_fraction)\n",
    "    }\n",
    "    ##初始化auc\n",
    "    ##分类预测\n",
    "    for i ,(clf_name,clf) in enumerate(classifiers.items()):\n",
    "        clf.fit(x_train)\n",
    "        # 预测离群得分\n",
    "        scores_pred = clf.decision_function(x_test)\n",
    "        fpr, tpr, thresholds = roc_curve(y_test, scores_pred, pos_label=1)\n",
    "        auc_score[clf_name].append(auc(fpr,tpr))"
   ]
  },
  {
   "cell_type": "code",
   "execution_count": 9,
   "metadata": {},
   "outputs": [],
   "source": [
    "##计算auc平均值\n",
    "result = {}\n",
    "for clf in auc_score.keys():\n",
    "    sum = 0\n",
    "    for item in auc_score[clf]:\n",
    "        sum += item\n",
    "    sum /= len(auc_score[clf])\n",
    "    result[clf] = sum"
   ]
  },
  {
   "cell_type": "markdown",
   "metadata": {},
   "source": [
    "##3、结果可视化##"
   ]
  },
  {
   "cell_type": "code",
   "execution_count": 10,
   "metadata": {},
   "outputs": [
    {
     "data": {
      "text/html": [
       "<div>\n",
       "<style scoped>\n",
       "    .dataframe tbody tr th:only-of-type {\n",
       "        vertical-align: middle;\n",
       "    }\n",
       "\n",
       "    .dataframe tbody tr th {\n",
       "        vertical-align: top;\n",
       "    }\n",
       "\n",
       "    .dataframe thead th {\n",
       "        text-align: right;\n",
       "    }\n",
       "</style>\n",
       "<table border=\"1\" class=\"dataframe\">\n",
       "  <thead>\n",
       "    <tr style=\"text-align: right;\">\n",
       "      <th></th>\n",
       "      <th>id</th>\n",
       "      <th>auc</th>\n",
       "    </tr>\n",
       "  </thead>\n",
       "  <tbody>\n",
       "    <tr>\n",
       "      <th>0</th>\n",
       "      <td>Cluster-based Local Outiler Factor (CBLOF)</td>\n",
       "      <td>0.827592</td>\n",
       "    </tr>\n",
       "    <tr>\n",
       "      <th>1</th>\n",
       "      <td>Feature Bagging</td>\n",
       "      <td>0.701018</td>\n",
       "    </tr>\n",
       "    <tr>\n",
       "      <th>2</th>\n",
       "      <td>Histogram-base Outlier Detection(HBOS)</td>\n",
       "      <td>0.997868</td>\n",
       "    </tr>\n",
       "    <tr>\n",
       "      <th>3</th>\n",
       "      <td>Isolation Forest</td>\n",
       "      <td>0.975908</td>\n",
       "    </tr>\n",
       "    <tr>\n",
       "      <th>4</th>\n",
       "      <td>KNN</td>\n",
       "      <td>0.739336</td>\n",
       "    </tr>\n",
       "    <tr>\n",
       "      <th>5</th>\n",
       "      <td>Average KNN</td>\n",
       "      <td>0.730580</td>\n",
       "    </tr>\n",
       "  </tbody>\n",
       "</table>\n",
       "</div>"
      ],
      "text/plain": [
       "                                           id       auc\n",
       "0  Cluster-based Local Outiler Factor (CBLOF)  0.827592\n",
       "1                             Feature Bagging  0.701018\n",
       "2      Histogram-base Outlier Detection(HBOS)  0.997868\n",
       "3                            Isolation Forest  0.975908\n",
       "4                                         KNN  0.739336\n",
       "5                                 Average KNN  0.730580"
      ]
     },
     "execution_count": 10,
     "metadata": {},
     "output_type": "execute_result"
    }
   ],
   "source": [
    "df = pd.DataFrame.from_dict(result, orient='index',columns=['auc'])\n",
    "df = df.reset_index().rename(columns = {'index':'id'})\n",
    "df"
   ]
  },
  {
   "cell_type": "code",
   "execution_count": 11,
   "metadata": {},
   "outputs": [
    {
     "data": {
      "text/plain": [
       "<matplotlib.axes._subplots.AxesSubplot at 0x14cefa20>"
      ]
     },
     "execution_count": 11,
     "metadata": {},
     "output_type": "execute_result"
    },
    {
     "data": {
      "image/png": "[encoded data removed]",
      "text/plain": [
       "<Figure size 576x432 with 1 Axes>"
      ]
     },
     "metadata": {
      "needs_background": "light"
     },
     "output_type": "display_data"
    }
   ],
   "source": [
    "import seaborn as sns\n",
    "plt.figure(figsize=(8,6))\n",
    "sns.barplot(y=df.id,x='auc',data=df)"
   ]
  },
  {
   "cell_type": "markdown",
   "metadata": {},
   "source": [
    "##4、结果分析##\n",
    "通过输出的结果和可视化分析可以看出，六种分类器中Histogram-base Outlier Detection(HBOS)的预测效果最好，auc达到了0.99；\n",
    "其次是Isolation Fores，auc为0.98；\n",
    "之后是Cluster-based Local Outiler Factor (CBLOF)，auc为0.83；\n",
    "而Feature Bagging、KNN和Average KNN的预测效果最差，auc得分在0.7-0.75之间。"
   ]
  }
 ],
 "metadata": {
  "kernelspec": {
   "display_name": "Python 3",
   "language": "python",
   "name": "python3"
  },
  "language_info": {
   "codemirror_mode": {
    "name": "ipython",
    "version": 3
   },
   "file_extension": ".py",
   "mimetype": "text/x-python",
   "name": "python",
   "nbconvert_exporter": "python",
   "pygments_lexer": "ipython3",
   "version": "3.7.0"
  }
 },
 "nbformat": 4,
 "nbformat_minor": 2
}
